{
 "cells": [
  {
   "cell_type": "markdown",
   "metadata": {},
   "source": [
    "peewee ORM. Offline examples. Full docs here: http://docs.peewee-orm.com/en/latest/index.html\n",
    "\n",
    "Setting up database"
   ]
  },
  {
   "cell_type": "code",
   "execution_count": 1,
   "metadata": {
    "collapsed": true
   },
   "outputs": [],
   "source": [
    "from peewee import *\n",
    "from datetime import date\n",
    "\n",
    "db = SqliteDatabase('people2.db')\n",
    "\n",
    "class Person(Model):\n",
    "    name = CharField()\n",
    "    birthday = DateField()\n",
    "    is_relative = BooleanField()\n",
    "\n",
    "    class Meta:\n",
    "        database = db\n",
    "        \n",
    "class Pet(Model):\n",
    "    owner = ForeignKeyField(Person, related_name='pets') #relationship\n",
    "    name = CharField()\n",
    "    animal_type = CharField()\n",
    "\n",
    "    class Meta:\n",
    "        database = db"
   ]
  },
  {
   "cell_type": "code",
   "execution_count": 2,
   "metadata": {
    "collapsed": false
   },
   "outputs": [],
   "source": [
    "# Setting up\n",
    "\n",
    "db.connect()\n",
    "db.create_tables([Person, Pet])"
   ]
  },
  {
   "cell_type": "code",
   "execution_count": 3,
   "metadata": {
    "collapsed": false
   },
   "outputs": [],
   "source": [
    "# Creating\n",
    "\n",
    "uncle_bob = Person(name='Bob', birthday=date(1960, 1, 15), is_relative=True)\n",
    "uncle_bob.save() # bob is now stored in the database\n",
    "# When you call save(), the number of rows modified is returned.\n",
    "\n",
    "# Alternative way of creating new rows\n",
    "grandma = Person.create(name='Grandma', birthday=date(1935, 3, 1), is_relative=True)\n",
    "herb = Person.create(name='Herb', birthday=date(1950, 5, 5), is_relative=False)\n",
    "\n",
    "# Creating pets assigned to people\n",
    "bob_kitty = Pet.create(owner=uncle_bob, name='Kitty', animal_type='cat')\n",
    "herb_fido = Pet.create(owner=herb, name='Fido', animal_type='dog')\n",
    "herb_mittens = Pet.create(owner=herb, name='Mittens', animal_type='cat')\n",
    "herb_mittens_jr = Pet.create(owner=herb, name='Mittens Jr', animal_type='cat')"
   ]
  },
  {
   "cell_type": "code",
   "execution_count": 4,
   "metadata": {
    "collapsed": false
   },
   "outputs": [
    {
     "data": {
      "text/plain": [
       "1"
      ]
     },
     "execution_count": 4,
     "metadata": {},
     "output_type": "execute_result"
    }
   ],
   "source": [
    "# Updating\n",
    "grandma.name = 'Grandma L.'\n",
    "grandma.save()"
   ]
  },
  {
   "cell_type": "code",
   "execution_count": 5,
   "metadata": {
    "collapsed": false
   },
   "outputs": [
    {
     "data": {
      "text/plain": [
       "1"
      ]
     },
     "execution_count": 5,
     "metadata": {},
     "output_type": "execute_result"
    }
   ],
   "source": [
    "# Deleting\n",
    "herb_mittens.delete_instance()\n",
    "# The return value of delete_instance() is the number of rows removed from the database."
   ]
  },
  {
   "cell_type": "code",
   "execution_count": 6,
   "metadata": {
    "collapsed": false
   },
   "outputs": [],
   "source": [
    "# Select query\n",
    "grandma = Person.select().where(Person.name == 'Grandma L.').get()\n",
    "# Alternatively\n",
    "grandma = Person.get(Person.name == 'Grandma L.')"
   ]
  },
  {
   "cell_type": "code",
   "execution_count": 7,
   "metadata": {
    "collapsed": false
   },
   "outputs": [
    {
     "name": "stdout",
     "output_type": "stream",
     "text": [
      "Bob True\n",
      "Grandma L. True\n",
      "Herb False\n"
     ]
    }
   ],
   "source": [
    "# Select many records\n",
    "for person in Person.select():\n",
    "    print(person.name, person.is_relative)"
   ]
  },
  {
   "cell_type": "code",
   "execution_count": 8,
   "metadata": {
    "collapsed": false
   },
   "outputs": [
    {
     "name": "stdout",
     "output_type": "stream",
     "text": [
      "Kitty Bob\n",
      "Mittens Jr Herb\n"
     ]
    }
   ],
   "source": [
    "# Where clause\n",
    "# Not recommended, N+1 behavior, pet.owner.name creates additional query which is unwanted\n",
    "query = Pet.select().where(Pet.animal_type == 'cat')\n",
    "for pet in query:\n",
    "    print(pet.name, pet.owner.name)"
   ]
  },
  {
   "cell_type": "code",
   "execution_count": 9,
   "metadata": {
    "collapsed": false
   },
   "outputs": [
    {
     "name": "stdout",
     "output_type": "stream",
     "text": [
      "Kitty Bob\n",
      "Mittens Jr Herb\n"
     ]
    }
   ],
   "source": [
    "# Proper where clause. Joined Pet and Person table\n",
    "query = (Pet\n",
    "          .select(Pet, Person)\n",
    "          .join(Person)\n",
    "          .where(Pet.animal_type == 'cat'))\n",
    "for pet in query:\n",
    "     print(pet.name, pet.owner.name)"
   ]
  },
  {
   "cell_type": "code",
   "execution_count": 10,
   "metadata": {
    "collapsed": false
   },
   "outputs": [
    {
     "name": "stdout",
     "output_type": "stream",
     "text": [
      "Kitty\n"
     ]
    }
   ],
   "source": [
    "for pet in Pet.select().join(Person).where(Person.name == 'Bob'):\n",
    "     print(pet.name)"
   ]
  },
  {
   "cell_type": "code",
   "execution_count": 11,
   "metadata": {
    "collapsed": false
   },
   "outputs": [
    {
     "name": "stdout",
     "output_type": "stream",
     "text": [
      "Bob 1960-01-15\n",
      "Herb 1950-05-05\n",
      "Grandma L. 1935-03-01\n"
     ]
    }
   ],
   "source": [
    "for person in Person.select().order_by(Person.birthday.desc()):\n",
    "     print(person.name, person.birthday)"
   ]
  },
  {
   "cell_type": "code",
   "execution_count": 12,
   "metadata": {
    "collapsed": false
   },
   "outputs": [
    {
     "name": "stdout",
     "output_type": "stream",
     "text": [
      "Bob 1 pets\n",
      "     Kitty cat\n",
      "Grandma L. 0 pets\n",
      "Herb 2 pets\n",
      "     Fido dog\n",
      "     Mittens Jr cat\n"
     ]
    }
   ],
   "source": [
    "subquery = Pet.select(fn.COUNT(Pet.id)).where(Pet.owner == Person.id)\n",
    "query = (Person\n",
    "          .select(Person, Pet, subquery.alias('pet_count'))\n",
    "          .join(Pet, JOIN.LEFT_OUTER)\n",
    "          .order_by(Person.name))\n",
    "\n",
    "for person in query.aggregate_rows():  # Note the `aggregate_rows()` call.\n",
    "     print(person.name, person.pet_count, 'pets')\n",
    "     for pet in person.pets:\n",
    "         print('    ', pet.name, pet.animal_type)"
   ]
  },
  {
   "cell_type": "code",
   "execution_count": 13,
   "metadata": {
    "collapsed": false
   },
   "outputs": [
    {
     "name": "stdout",
     "output_type": "stream",
     "text": [
      "Bob 1960-01-15\n",
      "Grandma L. 1935-03-01\n"
     ]
    }
   ],
   "source": [
    "d1940 = date(1940, 1, 1)\n",
    "d1960 = date(1960, 1, 1)\n",
    "query = (Person\n",
    "          .select()\n",
    "          .where((Person.birthday < d1940) | (Person.birthday > d1960)))\n",
    "\n",
    "for person in query:\n",
    "     print(person.name, person.birthday)"
   ]
  }
 ],
 "metadata": {
  "kernelspec": {
   "display_name": "Python 3",
   "language": "python",
   "name": "python3"
  },
  "language_info": {
   "codemirror_mode": {
    "name": "ipython",
    "version": 3
   },
   "file_extension": ".py",
   "mimetype": "text/x-python",
   "name": "python",
   "nbconvert_exporter": "python",
   "pygments_lexer": "ipython3",
   "version": "3.6.0"
  }
 },
 "nbformat": 4,
 "nbformat_minor": 2
}
