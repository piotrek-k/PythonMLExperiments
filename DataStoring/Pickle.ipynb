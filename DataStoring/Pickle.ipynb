{
 "cells": [
  {
   "cell_type": "code",
   "execution_count": 1,
   "metadata": {
    "collapsed": false
   },
   "outputs": [
    {
     "name": "stdout",
     "output_type": "stream",
     "text": [
      "I know the following animals: \n",
      "dog\n",
      "cat\n",
      "\n",
      "Please tell me a new animal to remember.\n",
      "Enter 'quit' to quit: parrot\n",
      "\n",
      "Please tell me a new animal to remember.\n",
      "Enter 'quit' to quit: quit\n",
      "\n",
      "I will remember the following animals: \n",
      "dog\n",
      "cat\n",
      "parrot\n"
     ]
    }
   ],
   "source": [
    "import pickle\n",
    "\n",
    "# This program asks the user for some animals, and stores them.\n",
    "#  It loads animals if they exist.\n",
    "\n",
    "# Try to load animals. If they don't exist, make an empty list\n",
    "#  to store new animals in.\n",
    "try:\n",
    "    file_object = open('animals.pydata', 'rb')\n",
    "    animals = pickle.load(file_object)\n",
    "    file_object.close()\n",
    "except:\n",
    "    animals = []\n",
    "\n",
    "# Show the animals that are stored so far.\n",
    "if len(animals) > 0:\n",
    "    print(\"I know the following animals: \")\n",
    "    for animal in animals:\n",
    "        print(animal)\n",
    "else:\n",
    "    print(\"I don't know any animals yet.\")\n",
    "\n",
    "# Create a loop that lets users store new animals.\n",
    "new_animal = ''\n",
    "while new_animal != 'quit':\n",
    "    print(\"\\nPlease tell me a new animal to remember.\")\n",
    "    new_animal = input(\"Enter 'quit' to quit: \")\n",
    "    if new_animal != 'quit':\n",
    "        animals.append(new_animal)\n",
    "\n",
    "# Try to save the animals to the file 'animals.pydata'.\n",
    "try:\n",
    "    file_object = open('animals.pydata', 'wb')\n",
    "    pickle.dump(animals, file_object)\n",
    "    file_object.close()\n",
    "    \n",
    "    print(\"\\nI will remember the following animals: \")\n",
    "    for animal in animals:\n",
    "        print(animal)\n",
    "except Exception as e:\n",
    "    print(e)\n",
    "    print(\"\\nI couldn't figure out how to store the animals. Sorry.\")\n",
    "\n"
   ]
  }
 ],
 "metadata": {
  "kernelspec": {
   "display_name": "Python 3",
   "language": "python",
   "name": "python3"
  },
  "language_info": {
   "codemirror_mode": {
    "name": "ipython",
    "version": 3
   },
   "file_extension": ".py",
   "mimetype": "text/x-python",
   "name": "python",
   "nbconvert_exporter": "python",
   "pygments_lexer": "ipython3",
   "version": "3.6.0"
  }
 },
 "nbformat": 4,
 "nbformat_minor": 2
}
