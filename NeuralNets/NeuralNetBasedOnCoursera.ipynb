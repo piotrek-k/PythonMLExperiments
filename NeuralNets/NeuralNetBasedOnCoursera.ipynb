{
 "cells": [
  {
   "cell_type": "markdown",
   "metadata": {},
   "source": [
    "The purpose is to try to create simple neural network by hand\n",
    "\n",
    "## Getting MNIST data"
   ]
  },
  {
   "cell_type": "code",
   "execution_count": 25,
   "metadata": {
    "collapsed": false
   },
   "outputs": [
    {
     "name": "stdout",
     "output_type": "stream",
     "text": [
      "Fetching and loading MNIST data\n",
      "[[ 0.  0.  0. ...,  0.  0.  0.]\n",
      " [ 0.  0.  0. ...,  0.  0.  0.]\n",
      " [ 0.  0.  0. ...,  0.  0.  0.]\n",
      " ..., \n",
      " [ 0.  0.  0. ...,  0.  0.  0.]\n",
      " [ 0.  0.  0. ...,  0.  0.  0.]\n",
      " [ 0.  0.  0. ...,  0.  0.  0.]]\n",
      "[ 0.  0.  0. ...,  9.  9.  9.]\n"
     ]
    }
   ],
   "source": [
    "#gathering data for training:\n",
    "\n",
    "#importing modules:\n",
    "\n",
    "import matplotlib.pyplot as plt\n",
    "import numpy as np\n",
    "from sklearn.datasets import fetch_mldata\n",
    "from sklearn.neural_network import MLPClassifier\n",
    "\n",
    "print('Fetching and loading MNIST data')\n",
    "mnist = fetch_mldata('MNIST original')\n",
    "# rescale the data, use the traditional train/test split\n",
    "X, y = mnist.data / 255., mnist.target\n",
    "X_train, X_test = X[:60000], X[60000:]\n",
    "y_train, y_test = y[:60000], y[60000:]\n",
    "\n",
    "print(X_train)\n",
    "print(y_train)"
   ]
  },
  {
   "cell_type": "code",
   "execution_count": 40,
   "metadata": {
    "collapsed": false
   },
   "outputs": [
    {
     "name": "stdout",
     "output_type": "stream",
     "text": [
      "Example of data\n"
     ]
    },
    {
     "data": {
      "image/png": "[encoded data removed]",
      "text/plain": [
       "<matplotlib.figure.Figure at 0x20205016c50>"
      ]
     },
     "metadata": {},
     "output_type": "display_data"
    }
   ],
   "source": [
    "new_arr = np.array(X_train[40000])\n",
    "new_arr.resize((28, 28))\n",
    "print(\"Example of data\")\n",
    "plt.matshow(new_arr, cmap=plt.cm.gray)\n",
    "plt.show()"
   ]
  },
  {
   "cell_type": "code",
   "execution_count": 49,
   "metadata": {
    "collapsed": false
   },
   "outputs": [
    {
     "name": "stdout",
     "output_type": "stream",
     "text": [
      "[[ 0.  0.  0. ...,  0.  0.  0.]\n",
      " [ 0.  0.  0. ...,  0.  0.  0.]\n",
      " [ 0.  0.  0. ...,  0.  0.  0.]\n",
      " ..., \n",
      " [ 0.  0.  0. ...,  0.  0.  0.]\n",
      " [ 0.  0.  0. ...,  0.  0.  0.]\n",
      " [ 0.  0.  0. ...,  0.  0.  0.]]\n"
     ]
    }
   ],
   "source": [
    "print(np.array(X_train).transpose())"
   ]
  },
  {
   "cell_type": "markdown",
   "metadata": {},
   "source": [
    "## Neural Network algorythm from Sklearn:"
   ]
  },
  {
   "cell_type": "code",
   "execution_count": 12,
   "metadata": {
    "collapsed": false
   },
   "outputs": [
    {
     "name": "stdout",
     "output_type": "stream",
     "text": [
      "Training set score: 0.997333\n",
      "Test set score: 0.976000\n"
     ]
    }
   ],
   "source": [
    "def run_sklearn_version():\n",
    "    # mlp = MLPClassifier(hidden_layer_sizes=(100, 100), max_iter=400, alpha=1e-4,\n",
    "    #                     solver='sgd', verbose=10, tol=1e-4, random_state=1)\n",
    "    mlp = MLPClassifier(\n",
    "        hidden_layer_sizes=(100,100), #The ith element represents the number of neurons in the ith hidden layer.\n",
    "        #max_iter=10,\n",
    "        alpha=1e-4, #?\n",
    "        solver='sgd', #‘sgd’ refers to stochastic gradient descent\n",
    "        verbose=False, #whether to print progress messages to stdout.\n",
    "        tol=1e-4, #when the loss or score is not improving by at least tol for two consecutive iterations, unless learning_rate is set to ‘adaptive’, convergence is considered to be reached and training stops\n",
    "        random_state=1, #seed used by the random number generator\n",
    "        learning_rate_init=.1) #controls the step-size in updating the weights\n",
    "\n",
    "    mlp.fit(X_train, y_train)\n",
    "    print(\"Training set score: %f\" % mlp.score(X_train, y_train))\n",
    "    print(\"Test set score: %f\" % mlp.score(X_test, y_test))\n",
    "run_sklearn_version()"
   ]
  },
  {
   "cell_type": "markdown",
   "metadata": {},
   "source": [
    "## Neural Network based on Coursera:\n",
    "Assuming we use 2 hidden layers, 100 neurons each\n",
    "\n",
    "Not done yet. Few problems found:\n",
    "* A3 is filled with \"1\"s for some reason"
   ]
  },
  {
   "cell_type": "code",
   "execution_count": 76,
   "metadata": {
    "collapsed": false
   },
   "outputs": [
    {
     "name": "stdout",
     "output_type": "stream",
     "text": [
      "A1\n",
      "[[ 59.61331549  67.30352542  68.69043905 ...,  39.36205165  35.85158966\n",
      "   31.51230247]\n",
      " [ 63.38708995  73.71598809  76.06052321 ...,  44.1564731   36.66524631\n",
      "   31.29901434]\n",
      " [ 60.30539194  71.12672836  72.71477102 ...,  42.92809835  35.62454804\n",
      "   30.8801253 ]\n",
      " ..., \n",
      " [ 57.6341929   66.20797694  65.24815441 ...,  40.78845681  36.94886324\n",
      "   32.94799559]\n",
      " [ 63.54128654  71.59764508  75.08148336 ...,  43.12587876  37.20624601\n",
      "   33.08009127]\n",
      " [ 66.12415827  74.80821186  76.51130173 ...,  41.47748558  39.35659756\n",
      "   36.33857941]]\n",
      "A2\n",
      "[[ 3182.29394588  3633.2934314   3744.29927799 ...,  2143.51145379\n",
      "   1878.70637116  1650.37125397]\n",
      " [ 3362.14892341  3841.95029089  3940.09699171 ...,  2251.90858589\n",
      "   1981.17932137  1743.10525311]\n",
      " [ 3162.79002574  3612.446777    3704.56454709 ...,  2122.6143218\n",
      "   1857.57644603  1636.86471037]\n",
      " ..., \n",
      " [ 2809.17512139  3210.506501    3307.74429352 ...,  1888.90686066\n",
      "   1659.49806977  1458.49396531]\n",
      " [ 3160.77484011  3612.8494348   3713.98807229 ...,  2124.7249854\n",
      "   1856.81915267  1629.81639015]\n",
      " [ 3042.12768252  3469.86745883  3557.63559328 ...,  2040.50428072\n",
      "   1793.15549445  1579.34629737]]\n",
      "A3\n",
      "[[ 1.  1.  1. ...,  1.  1.  1.]\n",
      " [ 1.  1.  1. ...,  1.  1.  1.]\n",
      " [ 1.  1.  1. ...,  1.  1.  1.]\n",
      " ..., \n",
      " [ 1.  1.  1. ...,  1.  1.  1.]\n",
      " [ 1.  1.  1. ...,  1.  1.  1.]\n",
      " [ 1.  1.  1. ...,  1.  1.  1.]]\n",
      "dA3\n",
      "[[ inf  inf  inf ..., -inf -inf -inf]\n",
      " [ inf  inf  inf ..., -inf -inf -inf]\n",
      " [ inf  inf  inf ..., -inf -inf -inf]\n",
      " ..., \n",
      " [ inf  inf  inf ..., -inf -inf -inf]\n",
      " [ inf  inf  inf ..., -inf -inf -inf]\n",
      " [ inf  inf  inf ..., -inf -inf -inf]]\n"
     ]
    },
    {
     "name": "stderr",
     "output_type": "stream",
     "text": [
      "C:\\ProgramData\\Anaconda3\\lib\\site-packages\\ipykernel\\__main__.py:38: RuntimeWarning: divide by zero encountered in log\n",
      "C:\\ProgramData\\Anaconda3\\lib\\site-packages\\ipykernel\\__main__.py:38: RuntimeWarning: invalid value encountered in multiply\n",
      "C:\\ProgramData\\Anaconda3\\lib\\site-packages\\ipykernel\\__main__.py:44: RuntimeWarning: divide by zero encountered in true_divide\n",
      "C:\\ProgramData\\Anaconda3\\lib\\site-packages\\ipykernel\\__main__.py:44: RuntimeWarning: invalid value encountered in true_divide\n"
     ]
    },
    {
     "ename": "TypeError",
     "evalue": "'tuple' object is not callable",
     "output_type": "error",
     "traceback": [
      "\u001b[0;31m---------------------------------------------------------------------------\u001b[0m",
      "\u001b[0;31mTypeError\u001b[0m                                 Traceback (most recent call last)",
      "\u001b[0;32m<ipython-input-76-4d4671abcb02>\u001b[0m in \u001b[0;36m<module>\u001b[0;34m()\u001b[0m\n\u001b[1;32m     70\u001b[0m     \u001b[0mW1\u001b[0m \u001b[1;33m=\u001b[0m \u001b[0mW1\u001b[0m \u001b[1;33m-\u001b[0m \u001b[0mlearning_rate\u001b[0m \u001b[1;33m*\u001b[0m \u001b[0mdW1\u001b[0m\u001b[1;33m\u001b[0m\u001b[0m\n\u001b[1;32m     71\u001b[0m     \u001b[0mB1\u001b[0m \u001b[1;33m=\u001b[0m \u001b[0mB1\u001b[0m \u001b[1;33m-\u001b[0m \u001b[0mlearning_rate\u001b[0m \u001b[1;33m*\u001b[0m\u001b[0mdB1\u001b[0m\u001b[1;33m\u001b[0m\u001b[0m\n\u001b[0;32m---> 72\u001b[0;31m \u001b[0mrun_coursera_version\u001b[0m\u001b[1;33m(\u001b[0m\u001b[1;33m)\u001b[0m\u001b[1;33m;\u001b[0m\u001b[1;33m\u001b[0m\u001b[0m\n\u001b[0m\u001b[1;32m     73\u001b[0m \u001b[1;33m\u001b[0m\u001b[0m\n",
      "\u001b[0;32m<ipython-input-76-4d4671abcb02>\u001b[0m in \u001b[0;36mrun_coursera_version\u001b[0;34m()\u001b[0m\n\u001b[1;32m     54\u001b[0m     \u001b[0mprint\u001b[0m\u001b[1;33m(\u001b[0m\u001b[1;34m\"dA3\"\u001b[0m\u001b[1;33m)\u001b[0m\u001b[1;33m\u001b[0m\u001b[0m\n\u001b[1;32m     55\u001b[0m     \u001b[0mprint\u001b[0m\u001b[1;33m(\u001b[0m\u001b[0mdA3\u001b[0m\u001b[1;33m)\u001b[0m\u001b[1;33m\u001b[0m\u001b[0m\n\u001b[0;32m---> 56\u001b[0;31m     \u001b[0mprint\u001b[0m\u001b[1;33m(\u001b[0m\u001b[0mZ3\u001b[0m\u001b[1;33m.\u001b[0m\u001b[0mshape\u001b[0m\u001b[1;33m(\u001b[0m\u001b[1;33m)\u001b[0m\u001b[1;33m)\u001b[0m\u001b[1;33m\u001b[0m\u001b[0m\n\u001b[0m\u001b[1;32m     57\u001b[0m     \u001b[0mdA2\u001b[0m\u001b[1;33m,\u001b[0m \u001b[0mdW3\u001b[0m\u001b[1;33m,\u001b[0m \u001b[0mdB3\u001b[0m \u001b[1;33m=\u001b[0m \u001b[0mlinear_activation_backward\u001b[0m\u001b[1;33m(\u001b[0m\u001b[0mdA3\u001b[0m\u001b[1;33m,\u001b[0m \u001b[1;33m(\u001b[0m\u001b[1;33m(\u001b[0m\u001b[0mA2\u001b[0m\u001b[1;33m,\u001b[0m \u001b[0mW3\u001b[0m\u001b[1;33m,\u001b[0m \u001b[0mB3\u001b[0m\u001b[1;33m)\u001b[0m\u001b[1;33m,\u001b[0m \u001b[1;33m(\u001b[0m\u001b[0mZ3\u001b[0m\u001b[1;33m)\u001b[0m\u001b[1;33m)\u001b[0m\u001b[1;33m,\u001b[0m \u001b[0mactivation\u001b[0m\u001b[1;33m=\u001b[0m\u001b[1;34m\"sigmoid\"\u001b[0m\u001b[1;33m)\u001b[0m\u001b[1;33m\u001b[0m\u001b[0m\n\u001b[1;32m     58\u001b[0m     \u001b[1;31m# Give A2 for linear_activation_backward for relu function. It will give us dA1, dW2, db2\u001b[0m\u001b[1;33m\u001b[0m\u001b[1;33m\u001b[0m\u001b[0m\n",
      "\u001b[0;31mTypeError\u001b[0m: 'tuple' object is not callable"
     ]
    }
   ],
   "source": [
    "import math\n",
    "from coursera_utils import sigmoid, sigmoid_backward, relu, relu_backward, linear_activation_backward\n",
    "\n",
    "def run_coursera_version():\n",
    "    m = 60000 #number of training examples\n",
    "    Y = y_train.transpose() # correct labels for training examples\n",
    "    \n",
    "    # FORWARD PROPAGATION\n",
    "    \n",
    "    # Preparing data\n",
    "    X = np.array(X_train).transpose()\n",
    "    # Random weights\n",
    "    # Layer 1: 784 features connected to 100 neurons\n",
    "    W1 = np.random.rand(100, 784)\n",
    "    # Biases: one for each neuron\n",
    "    B1 = np.zeros((100, 1))\n",
    "    # Layer 2: 100 neruons connected to 100 neurons\n",
    "    W2 = np.random.rand(100, 100)\n",
    "    # Biases: one for each neuron\n",
    "    B2 = np.zeros((100, 1))\n",
    "    # Layer 3: output layer. 100 neurons connected to 10 outputs\n",
    "    W3 = np.random.rand(10, 100)\n",
    "    # Biases\n",
    "    B3 = np.zeros((10, 1))\n",
    "    \n",
    "    # Calculating activation values:\n",
    "    Z1 = np.dot(W1, X) + B1\n",
    "    A1, cache1 = relu(Z1)\n",
    "    assert(A1.shape == (100, m)) # m examples, 100 activation values each\n",
    "    Z2 = np.dot(W2, A1) + B2\n",
    "    A2, cache2 = relu(Z2)\n",
    "    Z3 = np.dot(W3, A2) + B3\n",
    "    A3, cache3 = sigmoid(Z3) #Y_predicted\n",
    "    \n",
    "    # Using following loss function:\n",
    "    # J = -[y(i)log(a(i))+(1-y(i))*log(1-a(i))]\n",
    "    # where (i) means: value for i-th training example\n",
    "    cost = (-1 / m) * np.sum(np.multiply(Y, np.log(A3)) + np.multiply(1 - Y, np.log(1 - A3)))\n",
    "    cost = np.squeeze(cost) # matrix to number\n",
    "    \n",
    "    # BACKPROPAGATION\n",
    "    \n",
    "    Y = Y.reshape(1, m) # ensure it's shape is (1, m)\n",
    "    dA3 = - (np.divide(Y, A3) - np.divide(1 - Y, 1 - A3)) # derivative of cost with respect to A3\n",
    "    \n",
    "    # Give A3 for linear_activation_backward for sigmoid function. It will give us dA2, dW3, db3\n",
    "    #assert(dA3.shape() == Z3.shape())\n",
    "    print(\"A1\")\n",
    "    print(A1)\n",
    "    print(\"A2\")\n",
    "    print(A2)\n",
    "    print(\"A3\")\n",
    "    print(A3)\n",
    "    print(\"dA3\")\n",
    "    print(dA3)\n",
    "    print(Z3.shape())\n",
    "    dA2, dW3, dB3 = linear_activation_backward(dA3, ((A2, W3, B3), (Z3)), activation=\"sigmoid\")\n",
    "    # Give A2 for linear_activation_backward for relu function. It will give us dA1, dW2, db2\n",
    "    dA1, dW2, dB2 = linear_activation_backward(dA3, ((A1, W2, B2), (Z2)), activation=\"relu\")\n",
    "    # Give A1 for linear_activation_backward for relu function. It will give us dX (not necessary), dW1, db1\n",
    "    dX, dW1, dB1 = linear_activation_backward(dA3, ((X, W1, B1), (Z1)), activation=\"relu\")\n",
    "    \n",
    "    # TODO: updating weights and biases\n",
    "    W3 = W3 - learning_rate * dW3\n",
    "    B3 = B3 - learning_rate *dB3\n",
    "    \n",
    "    W2 = W2 - learning_rate * dW2\n",
    "    B2 = B2 - learning_rate *dB2\n",
    "    \n",
    "    W1 = W1 - learning_rate * dW1\n",
    "    B1 = B1 - learning_rate *dB1\n",
    "run_coursera_version();\n",
    "        "
   ]
  }
 ],
 "metadata": {
  "kernelspec": {
   "display_name": "Python 3",
   "language": "python",
   "name": "python3"
  },
  "language_info": {
   "codemirror_mode": {
    "name": "ipython",
    "version": 3
   },
   "file_extension": ".py",
   "mimetype": "text/x-python",
   "name": "python",
   "nbconvert_exporter": "python",
   "pygments_lexer": "ipython3",
   "version": "3.6.0"
  }
 },
 "nbformat": 4,
 "nbformat_minor": 2
}
